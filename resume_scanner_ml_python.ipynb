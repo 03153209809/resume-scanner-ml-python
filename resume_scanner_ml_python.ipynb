{
 "cells": [
  {
   "cell_type": "markdown",
   "id": "7c09f28b",
   "metadata": {},
   "source": [
    "# Mini project for resume scanner\n"
   ]
  },
  {
   "cell_type": "code",
   "execution_count": null,
   "id": "3c7fab55",
   "metadata": {},
   "outputs": [],
   "source": [
    "import docx2txt\n",
    "#!pip install docx2txt"
   ]
  },
  {
   "cell_type": "code",
   "execution_count": null,
   "id": "3bc48e4e",
   "metadata": {},
   "outputs": [],
   "source": [
    "job_des=docx2txt.process(\"\")\n",
    "resume=docx2txt.process(\"\")\n",
    "cont=[job_des,resume]\n"
   ]
  },
  {
   "cell_type": "code",
   "execution_count": null,
   "id": "95a3a5fe",
   "metadata": {},
   "outputs": [],
   "source": [
    "from sklearn.feature.extraction.text import countVectorizer\n",
    "cv=countVectorizer()\n",
    "mtrx=cv.fit_transform(cont)\n",
    "from sklearn.metrics.pairwise import cosine_similarity\n",
    "sm_mtrx=cosine_similarity()\n",
    "print(sm_mtrx)\n",
    "print(\"cv matches by:\"+str(sm_mtrx[1][0]))\n",
    "\n"
   ]
  },
  {
   "cell_type": "code",
   "execution_count": null,
   "id": "7a561447",
   "metadata": {},
   "outputs": [],
   "source": []
  }
 ],
 "metadata": {
  "kernelspec": {
   "display_name": "Python 3 (ipykernel)",
   "language": "python",
   "name": "python3"
  },
  "language_info": {
   "codemirror_mode": {
    "name": "ipython",
    "version": 3
   },
   "file_extension": ".py",
   "mimetype": "text/x-python",
   "name": "python",
   "nbconvert_exporter": "python",
   "pygments_lexer": "ipython3",
   "version": "3.10.9"
  }
 },
 "nbformat": 4,
 "nbformat_minor": 5
}
